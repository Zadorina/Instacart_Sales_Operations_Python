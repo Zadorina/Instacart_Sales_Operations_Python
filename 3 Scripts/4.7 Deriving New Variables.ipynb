{
 "cells": [
  {
   "cell_type": "code",
   "execution_count": 2,
   "id": "bfc60f1c",
   "metadata": {},
   "outputs": [],
   "source": [
    "import pandas as pd\n",
    "import numpy as np\n",
    "import os"
   ]
  },
  {
   "cell_type": "code",
   "execution_count": 3,
   "id": "8623ee98",
   "metadata": {},
   "outputs": [],
   "source": [
    "path = r'C:\\Users\\Anna\\Desktop\\Data Analytics\\Instacart Basket Analysis\\2 Data'"
   ]
  },
  {
   "cell_type": "code",
   "execution_count": 4,
   "id": "5f434fcb",
   "metadata": {},
   "outputs": [
    {
     "data": {
      "text/plain": [
       "(308576, 15)"
      ]
     },
     "execution_count": 4,
     "metadata": {},
     "output_type": "execute_result"
    }
   ],
   "source": [
    "df_ords_prods_merged = pd.read_pickle(os.path.join(path, 'Prepared Data', 'orders_products_merged.pkl'))\n",
    "df_ords_prods_merged.shape"
   ]
  },
  {
   "cell_type": "code",
   "execution_count": 5,
   "id": "3ccf80cb",
   "metadata": {},
   "outputs": [],
   "source": [
    "df = df_ords_prods_merged.iloc[:100000]"
   ]
  },
  {
   "cell_type": "code",
   "execution_count": 6,
   "id": "5b359114",
   "metadata": {},
   "outputs": [
    {
     "data": {
      "text/plain": [
       "(100000, 15)"
      ]
     },
     "execution_count": 6,
     "metadata": {},
     "output_type": "execute_result"
    }
   ],
   "source": [
    "df.shape"
   ]
  },
  {
   "cell_type": "code",
   "execution_count": 7,
   "id": "77d714f8",
   "metadata": {},
   "outputs": [],
   "source": [
    "def price_label(row):\n",
    "\n",
    "  if row['prices'] <= 5:\n",
    "    return 'Low-range product'\n",
    "  elif (row['prices'] > 5) and (row['prices'] <= 15):\n",
    "    return 'Mid-range product'\n",
    "  elif row['prices'] > 15:\n",
    "    return 'High range'\n",
    "  else: return 'Not enough data'"
   ]
  },
  {
   "cell_type": "code",
   "execution_count": 8,
   "id": "674c2cd1",
   "metadata": {},
   "outputs": [
    {
     "name": "stderr",
     "output_type": "stream",
     "text": [
      "C:\\Users\\Anna\\AppData\\Local\\Temp\\ipykernel_4292\\2848743372.py:1: SettingWithCopyWarning: \n",
      "A value is trying to be set on a copy of a slice from a DataFrame.\n",
      "Try using .loc[row_indexer,col_indexer] = value instead\n",
      "\n",
      "See the caveats in the documentation: https://pandas.pydata.org/pandas-docs/stable/user_guide/indexing.html#returning-a-view-versus-a-copy\n",
      "  df['price_range'] = df.apply(price_label, axis=1)\n"
     ]
    }
   ],
   "source": [
    "df['price_range'] = df.apply(price_label, axis=1)"
   ]
  },
  {
   "cell_type": "code",
   "execution_count": 9,
   "id": "5d02f115",
   "metadata": {},
   "outputs": [
    {
     "data": {
      "text/plain": [
       "22.3"
      ]
     },
     "execution_count": 9,
     "metadata": {},
     "output_type": "execute_result"
    }
   ],
   "source": [
    "df['prices'].max()"
   ]
  },
  {
   "cell_type": "code",
   "execution_count": 10,
   "id": "01a6db2e",
   "metadata": {},
   "outputs": [
    {
     "name": "stderr",
     "output_type": "stream",
     "text": [
      "C:\\Users\\Anna\\AppData\\Local\\Temp\\ipykernel_4292\\1169838859.py:1: SettingWithCopyWarning: \n",
      "A value is trying to be set on a copy of a slice from a DataFrame.\n",
      "Try using .loc[row_indexer,col_indexer] = value instead\n",
      "\n",
      "See the caveats in the documentation: https://pandas.pydata.org/pandas-docs/stable/user_guide/indexing.html#returning-a-view-versus-a-copy\n",
      "  df.loc[df['prices'] > 15, 'price_range_loc'] = 'High-range product'\n"
     ]
    }
   ],
   "source": [
    "df.loc[df['prices'] > 15, 'price_range_loc'] = 'High-range product'"
   ]
  },
  {
   "cell_type": "code",
   "execution_count": 11,
   "id": "14d161de",
   "metadata": {},
   "outputs": [],
   "source": [
    "df.loc[(df['prices'] <= 15) & (df['prices'] > 5), 'price_range_loc'] = 'Mid-range product'"
   ]
  },
  {
   "cell_type": "code",
   "execution_count": 12,
   "id": "1bf3f295",
   "metadata": {},
   "outputs": [],
   "source": [
    "df.loc[df['prices'] <= 5, 'price_range_loc'] = 'Low-range product'"
   ]
  },
  {
   "cell_type": "code",
   "execution_count": 13,
   "id": "f955a0f0",
   "metadata": {},
   "outputs": [
    {
     "data": {
      "text/plain": [
       "Mid-range product     80111\n",
       "Low-range product     18833\n",
       "High-range product     1056\n",
       "Name: price_range_loc, dtype: int64"
      ]
     },
     "execution_count": 13,
     "metadata": {},
     "output_type": "execute_result"
    }
   ],
   "source": [
    "df['price_range_loc'].value_counts(dropna = False)"
   ]
  },
  {
   "cell_type": "code",
   "execution_count": 14,
   "id": "bf22bd89",
   "metadata": {},
   "outputs": [
    {
     "data": {
      "text/html": [
       "<div>\n",
       "<style scoped>\n",
       "    .dataframe tbody tr th:only-of-type {\n",
       "        vertical-align: middle;\n",
       "    }\n",
       "\n",
       "    .dataframe tbody tr th {\n",
       "        vertical-align: top;\n",
       "    }\n",
       "\n",
       "    .dataframe thead th {\n",
       "        text-align: right;\n",
       "    }\n",
       "</style>\n",
       "<table border=\"1\" class=\"dataframe\">\n",
       "  <thead>\n",
       "    <tr style=\"text-align: right;\">\n",
       "      <th></th>\n",
       "      <th>order_id</th>\n",
       "      <th>user_id</th>\n",
       "      <th>eval_set</th>\n",
       "      <th>order_number</th>\n",
       "      <th>order_dow</th>\n",
       "      <th>order_hour_of_day</th>\n",
       "      <th>days_since_prior_order</th>\n",
       "      <th>product_id</th>\n",
       "      <th>add_to_cart_order</th>\n",
       "      <th>reordered</th>\n",
       "      <th>product_name</th>\n",
       "      <th>aisle_id</th>\n",
       "      <th>department_id</th>\n",
       "      <th>prices</th>\n",
       "      <th>_merge</th>\n",
       "      <th>price_range</th>\n",
       "      <th>price_range_loc</th>\n",
       "    </tr>\n",
       "  </thead>\n",
       "  <tbody>\n",
       "    <tr>\n",
       "      <th>0</th>\n",
       "      <td>2862468</td>\n",
       "      <td>66479</td>\n",
       "      <td>prior</td>\n",
       "      <td>24</td>\n",
       "      <td>4</td>\n",
       "      <td>13</td>\n",
       "      <td>10.0</td>\n",
       "      <td>24838</td>\n",
       "      <td>3</td>\n",
       "      <td>1</td>\n",
       "      <td>Unsweetened Almondmilk</td>\n",
       "      <td>91</td>\n",
       "      <td>16</td>\n",
       "      <td>5.3</td>\n",
       "      <td>both</td>\n",
       "      <td>Mid-range product</td>\n",
       "      <td>Mid-range product</td>\n",
       "    </tr>\n",
       "    <tr>\n",
       "      <th>1</th>\n",
       "      <td>980006</td>\n",
       "      <td>105915</td>\n",
       "      <td>prior</td>\n",
       "      <td>25</td>\n",
       "      <td>3</td>\n",
       "      <td>15</td>\n",
       "      <td>6.0</td>\n",
       "      <td>24838</td>\n",
       "      <td>6</td>\n",
       "      <td>1</td>\n",
       "      <td>Unsweetened Almondmilk</td>\n",
       "      <td>91</td>\n",
       "      <td>16</td>\n",
       "      <td>5.3</td>\n",
       "      <td>both</td>\n",
       "      <td>Mid-range product</td>\n",
       "      <td>Mid-range product</td>\n",
       "    </tr>\n",
       "    <tr>\n",
       "      <th>2</th>\n",
       "      <td>2184085</td>\n",
       "      <td>196075</td>\n",
       "      <td>prior</td>\n",
       "      <td>9</td>\n",
       "      <td>6</td>\n",
       "      <td>17</td>\n",
       "      <td>1.0</td>\n",
       "      <td>24838</td>\n",
       "      <td>1</td>\n",
       "      <td>1</td>\n",
       "      <td>Unsweetened Almondmilk</td>\n",
       "      <td>91</td>\n",
       "      <td>16</td>\n",
       "      <td>5.3</td>\n",
       "      <td>both</td>\n",
       "      <td>Mid-range product</td>\n",
       "      <td>Mid-range product</td>\n",
       "    </tr>\n",
       "    <tr>\n",
       "      <th>3</th>\n",
       "      <td>3317270</td>\n",
       "      <td>163317</td>\n",
       "      <td>prior</td>\n",
       "      <td>24</td>\n",
       "      <td>6</td>\n",
       "      <td>16</td>\n",
       "      <td>16.0</td>\n",
       "      <td>24838</td>\n",
       "      <td>2</td>\n",
       "      <td>1</td>\n",
       "      <td>Unsweetened Almondmilk</td>\n",
       "      <td>91</td>\n",
       "      <td>16</td>\n",
       "      <td>5.3</td>\n",
       "      <td>both</td>\n",
       "      <td>Mid-range product</td>\n",
       "      <td>Mid-range product</td>\n",
       "    </tr>\n",
       "    <tr>\n",
       "      <th>4</th>\n",
       "      <td>408267</td>\n",
       "      <td>97387</td>\n",
       "      <td>prior</td>\n",
       "      <td>31</td>\n",
       "      <td>3</td>\n",
       "      <td>22</td>\n",
       "      <td>10.0</td>\n",
       "      <td>24838</td>\n",
       "      <td>9</td>\n",
       "      <td>1</td>\n",
       "      <td>Unsweetened Almondmilk</td>\n",
       "      <td>91</td>\n",
       "      <td>16</td>\n",
       "      <td>5.3</td>\n",
       "      <td>both</td>\n",
       "      <td>Mid-range product</td>\n",
       "      <td>Mid-range product</td>\n",
       "    </tr>\n",
       "  </tbody>\n",
       "</table>\n",
       "</div>"
      ],
      "text/plain": [
       "   order_id  user_id eval_set  order_number  order_dow  order_hour_of_day  \\\n",
       "0   2862468    66479    prior            24          4                 13   \n",
       "1    980006   105915    prior            25          3                 15   \n",
       "2   2184085   196075    prior             9          6                 17   \n",
       "3   3317270   163317    prior            24          6                 16   \n",
       "4    408267    97387    prior            31          3                 22   \n",
       "\n",
       "   days_since_prior_order  product_id  add_to_cart_order  reordered  \\\n",
       "0                    10.0       24838                  3          1   \n",
       "1                     6.0       24838                  6          1   \n",
       "2                     1.0       24838                  1          1   \n",
       "3                    16.0       24838                  2          1   \n",
       "4                    10.0       24838                  9          1   \n",
       "\n",
       "             product_name  aisle_id  department_id  prices _merge  \\\n",
       "0  Unsweetened Almondmilk        91             16     5.3   both   \n",
       "1  Unsweetened Almondmilk        91             16     5.3   both   \n",
       "2  Unsweetened Almondmilk        91             16     5.3   both   \n",
       "3  Unsweetened Almondmilk        91             16     5.3   both   \n",
       "4  Unsweetened Almondmilk        91             16     5.3   both   \n",
       "\n",
       "         price_range    price_range_loc  \n",
       "0  Mid-range product  Mid-range product  \n",
       "1  Mid-range product  Mid-range product  \n",
       "2  Mid-range product  Mid-range product  \n",
       "3  Mid-range product  Mid-range product  \n",
       "4  Mid-range product  Mid-range product  "
      ]
     },
     "execution_count": 14,
     "metadata": {},
     "output_type": "execute_result"
    }
   ],
   "source": [
    "df.head()"
   ]
  },
  {
   "cell_type": "code",
   "execution_count": 35,
   "id": "3cd4a096",
   "metadata": {},
   "outputs": [
    {
     "data": {
      "text/plain": [
       "0    20639\n",
       "1    17770\n",
       "6    14365\n",
       "2    12542\n",
       "5    12342\n",
       "4    11173\n",
       "3    11169\n",
       "Name: order_dow, dtype: int64"
      ]
     },
     "execution_count": 35,
     "metadata": {},
     "output_type": "execute_result"
    }
   ],
   "source": [
    "df['order_dow'].value_counts(dropna = False)"
   ]
  },
  {
   "cell_type": "code",
   "execution_count": 36,
   "id": "27ecb26d",
   "metadata": {},
   "outputs": [],
   "source": [
    "result = []"
   ]
  },
  {
   "cell_type": "code",
   "execution_count": 37,
   "id": "0f7f950c",
   "metadata": {},
   "outputs": [],
   "source": [
    "for value in df[\"order_dow\"]:\n",
    "  if value == 0:\n",
    "    result.append(\"busiest day\")\n",
    "  elif value == 4:\n",
    "    result.append(\"least busy\")\n",
    "  else:\n",
    "    result.append(\"regularly busy\")      "
   ]
  },
  {
   "cell_type": "code",
   "execution_count": 39,
   "id": "539d2a50",
   "metadata": {},
   "outputs": [
    {
     "name": "stderr",
     "output_type": "stream",
     "text": [
      "C:\\Users\\Anna\\AppData\\Local\\Temp\\ipykernel_4292\\530291758.py:1: SettingWithCopyWarning: \n",
      "A value is trying to be set on a copy of a slice from a DataFrame.\n",
      "Try using .loc[row_indexer,col_indexer] = value instead\n",
      "\n",
      "See the caveats in the documentation: https://pandas.pydata.org/pandas-docs/stable/user_guide/indexing.html#returning-a-view-versus-a-copy\n",
      "  df['busiest_day'] = result\n"
     ]
    }
   ],
   "source": [
    "df['busiest_day'] = result"
   ]
  },
  {
   "cell_type": "code",
   "execution_count": 40,
   "id": "32c95ea1",
   "metadata": {},
   "outputs": [
    {
     "data": {
      "text/plain": [
       "regularly busy    68188\n",
       "busiest day       20639\n",
       "least busy        11173\n",
       "Name: busiest_day, dtype: int64"
      ]
     },
     "execution_count": 40,
     "metadata": {},
     "output_type": "execute_result"
    }
   ],
   "source": [
    "df['busiest_day'].value_counts(dropna = False)"
   ]
  },
  {
   "cell_type": "markdown",
   "id": "3130ee29",
   "metadata": {},
   "source": [
    "### Task"
   ]
  },
  {
   "cell_type": "markdown",
   "id": "5715302e",
   "metadata": {},
   "source": [
    "2. Suppose your clients have changed their minds about the labels you created in your “busiest_day” column. Now, they want “Busiest day” to become “Busiest days” (plural). "
   ]
  },
  {
   "cell_type": "code",
   "execution_count": 43,
   "id": "afebe2d5",
   "metadata": {},
   "outputs": [],
   "source": [
    "labeling_counts = df['order_dow'].value_counts(dropna = False)"
   ]
  },
  {
   "cell_type": "code",
   "execution_count": 44,
   "id": "5706ba28",
   "metadata": {},
   "outputs": [
    {
     "data": {
      "text/plain": [
       "0    20639\n",
       "1    17770\n",
       "6    14365\n",
       "2    12542\n",
       "5    12342\n",
       "4    11173\n",
       "3    11169\n",
       "Name: order_dow, dtype: int64"
      ]
     },
     "execution_count": 44,
     "metadata": {},
     "output_type": "execute_result"
    }
   ],
   "source": [
    "labeling_counts"
   ]
  },
  {
   "cell_type": "code",
   "execution_count": 45,
   "id": "a675776c",
   "metadata": {},
   "outputs": [
    {
     "data": {
      "text/plain": [
       "Int64Index([0, 1, 6, 2, 5, 4, 3], dtype='int64')"
      ]
     },
     "execution_count": 45,
     "metadata": {},
     "output_type": "execute_result"
    }
   ],
   "source": [
    "labeling_counts.index"
   ]
  },
  {
   "cell_type": "code",
   "execution_count": 47,
   "id": "7cc3d6b3",
   "metadata": {},
   "outputs": [
    {
     "data": {
      "text/plain": [
       "[0, 1, 6, 2, 5, 4, 3]"
      ]
     },
     "execution_count": 47,
     "metadata": {},
     "output_type": "execute_result"
    }
   ],
   "source": [
    "day_number = list(labeling_counts.index)\n",
    "day_number"
   ]
  },
  {
   "cell_type": "code",
   "execution_count": 48,
   "id": "e16c0407",
   "metadata": {},
   "outputs": [],
   "source": [
    "results = []"
   ]
  },
  {
   "cell_type": "code",
   "execution_count": 51,
   "id": "fa43d8f3",
   "metadata": {},
   "outputs": [],
   "source": [
    "for value in df['order_dow']:\n",
    "    if value == day_number[0] or value == day_number[1]:\n",
    "        results.append('Busiest days')\n",
    "    elif value == day_number[len(day_number) - 1] or value == day_number[len(day_number) - 2]:\n",
    "        results.append('Slowest days')\n",
    "    else:\n",
    "        results.append('Regulary busy days')"
   ]
  },
  {
   "cell_type": "code",
   "execution_count": 52,
   "id": "726d38c3",
   "metadata": {},
   "outputs": [
    {
     "data": {
      "text/plain": [
       "100000"
      ]
     },
     "execution_count": 52,
     "metadata": {},
     "output_type": "execute_result"
    }
   ],
   "source": [
    "len(results)"
   ]
  },
  {
   "cell_type": "code",
   "execution_count": 53,
   "id": "4bffd256",
   "metadata": {},
   "outputs": [
    {
     "data": {
      "text/plain": [
       "(100000,)"
      ]
     },
     "execution_count": 53,
     "metadata": {},
     "output_type": "execute_result"
    }
   ],
   "source": [
    "df['order_dow'].shape"
   ]
  },
  {
   "cell_type": "code",
   "execution_count": 54,
   "id": "7e40ea96",
   "metadata": {},
   "outputs": [
    {
     "name": "stderr",
     "output_type": "stream",
     "text": [
      "C:\\Users\\Anna\\AppData\\Local\\Temp\\ipykernel_4292\\2987079965.py:1: SettingWithCopyWarning: \n",
      "A value is trying to be set on a copy of a slice from a DataFrame.\n",
      "Try using .loc[row_indexer,col_indexer] = value instead\n",
      "\n",
      "See the caveats in the documentation: https://pandas.pydata.org/pandas-docs/stable/user_guide/indexing.html#returning-a-view-versus-a-copy\n",
      "  df['busiest_days'] = results\n"
     ]
    }
   ],
   "source": [
    "df['busiest_days'] = results"
   ]
  },
  {
   "cell_type": "markdown",
   "id": "d4cd6bf1",
   "metadata": {},
   "source": [
    "3. Check the values of this new column for accuracy. Note any observations in markdown format."
   ]
  },
  {
   "cell_type": "code",
   "execution_count": 56,
   "id": "5c653e97",
   "metadata": {},
   "outputs": [
    {
     "data": {
      "text/plain": [
       "Regulary busy days    39249\n",
       "Busiest days          38409\n",
       "Slowest days          22342\n",
       "Name: busiest_days, dtype: int64"
      ]
     },
     "execution_count": 56,
     "metadata": {},
     "output_type": "execute_result"
    }
   ],
   "source": [
    "df['busiest_days'].value_counts(dropna = False)"
   ]
  },
  {
   "cell_type": "markdown",
   "id": "964aa241",
   "metadata": {},
   "source": [
    "4. When too many users make Instacart orders at the same time, the app freezes. The senior technical officer at Instacart wants you to identify the busiest hours of the day. Rather than by hour, they want periods of time labeled “Most orders,” “Average orders,” and “Fewest orders.” Create a new column containing these labels called “busiest_period_of_day.”"
   ]
  },
  {
   "cell_type": "code",
   "execution_count": 57,
   "id": "8b8d2286",
   "metadata": {},
   "outputs": [
    {
     "data": {
      "text/html": [
       "<div>\n",
       "<style scoped>\n",
       "    .dataframe tbody tr th:only-of-type {\n",
       "        vertical-align: middle;\n",
       "    }\n",
       "\n",
       "    .dataframe tbody tr th {\n",
       "        vertical-align: top;\n",
       "    }\n",
       "\n",
       "    .dataframe thead th {\n",
       "        text-align: right;\n",
       "    }\n",
       "</style>\n",
       "<table border=\"1\" class=\"dataframe\">\n",
       "  <thead>\n",
       "    <tr style=\"text-align: right;\">\n",
       "      <th></th>\n",
       "      <th>order_id</th>\n",
       "      <th>user_id</th>\n",
       "      <th>eval_set</th>\n",
       "      <th>order_number</th>\n",
       "      <th>order_dow</th>\n",
       "      <th>order_hour_of_day</th>\n",
       "      <th>days_since_prior_order</th>\n",
       "      <th>product_id</th>\n",
       "      <th>add_to_cart_order</th>\n",
       "      <th>reordered</th>\n",
       "      <th>product_name</th>\n",
       "      <th>aisle_id</th>\n",
       "      <th>department_id</th>\n",
       "      <th>prices</th>\n",
       "      <th>_merge</th>\n",
       "      <th>price_range</th>\n",
       "      <th>price_range_loc</th>\n",
       "      <th>busiest_day</th>\n",
       "      <th>busiest_days</th>\n",
       "    </tr>\n",
       "  </thead>\n",
       "  <tbody>\n",
       "    <tr>\n",
       "      <th>0</th>\n",
       "      <td>2862468</td>\n",
       "      <td>66479</td>\n",
       "      <td>prior</td>\n",
       "      <td>24</td>\n",
       "      <td>4</td>\n",
       "      <td>13</td>\n",
       "      <td>10.0</td>\n",
       "      <td>24838</td>\n",
       "      <td>3</td>\n",
       "      <td>1</td>\n",
       "      <td>Unsweetened Almondmilk</td>\n",
       "      <td>91</td>\n",
       "      <td>16</td>\n",
       "      <td>5.3</td>\n",
       "      <td>both</td>\n",
       "      <td>Mid-range product</td>\n",
       "      <td>Mid-range product</td>\n",
       "      <td>least busy</td>\n",
       "      <td>Slowest days</td>\n",
       "    </tr>\n",
       "    <tr>\n",
       "      <th>1</th>\n",
       "      <td>980006</td>\n",
       "      <td>105915</td>\n",
       "      <td>prior</td>\n",
       "      <td>25</td>\n",
       "      <td>3</td>\n",
       "      <td>15</td>\n",
       "      <td>6.0</td>\n",
       "      <td>24838</td>\n",
       "      <td>6</td>\n",
       "      <td>1</td>\n",
       "      <td>Unsweetened Almondmilk</td>\n",
       "      <td>91</td>\n",
       "      <td>16</td>\n",
       "      <td>5.3</td>\n",
       "      <td>both</td>\n",
       "      <td>Mid-range product</td>\n",
       "      <td>Mid-range product</td>\n",
       "      <td>regularly busy</td>\n",
       "      <td>Slowest days</td>\n",
       "    </tr>\n",
       "    <tr>\n",
       "      <th>2</th>\n",
       "      <td>2184085</td>\n",
       "      <td>196075</td>\n",
       "      <td>prior</td>\n",
       "      <td>9</td>\n",
       "      <td>6</td>\n",
       "      <td>17</td>\n",
       "      <td>1.0</td>\n",
       "      <td>24838</td>\n",
       "      <td>1</td>\n",
       "      <td>1</td>\n",
       "      <td>Unsweetened Almondmilk</td>\n",
       "      <td>91</td>\n",
       "      <td>16</td>\n",
       "      <td>5.3</td>\n",
       "      <td>both</td>\n",
       "      <td>Mid-range product</td>\n",
       "      <td>Mid-range product</td>\n",
       "      <td>regularly busy</td>\n",
       "      <td>Regulary busy days</td>\n",
       "    </tr>\n",
       "    <tr>\n",
       "      <th>3</th>\n",
       "      <td>3317270</td>\n",
       "      <td>163317</td>\n",
       "      <td>prior</td>\n",
       "      <td>24</td>\n",
       "      <td>6</td>\n",
       "      <td>16</td>\n",
       "      <td>16.0</td>\n",
       "      <td>24838</td>\n",
       "      <td>2</td>\n",
       "      <td>1</td>\n",
       "      <td>Unsweetened Almondmilk</td>\n",
       "      <td>91</td>\n",
       "      <td>16</td>\n",
       "      <td>5.3</td>\n",
       "      <td>both</td>\n",
       "      <td>Mid-range product</td>\n",
       "      <td>Mid-range product</td>\n",
       "      <td>regularly busy</td>\n",
       "      <td>Regulary busy days</td>\n",
       "    </tr>\n",
       "    <tr>\n",
       "      <th>4</th>\n",
       "      <td>408267</td>\n",
       "      <td>97387</td>\n",
       "      <td>prior</td>\n",
       "      <td>31</td>\n",
       "      <td>3</td>\n",
       "      <td>22</td>\n",
       "      <td>10.0</td>\n",
       "      <td>24838</td>\n",
       "      <td>9</td>\n",
       "      <td>1</td>\n",
       "      <td>Unsweetened Almondmilk</td>\n",
       "      <td>91</td>\n",
       "      <td>16</td>\n",
       "      <td>5.3</td>\n",
       "      <td>both</td>\n",
       "      <td>Mid-range product</td>\n",
       "      <td>Mid-range product</td>\n",
       "      <td>regularly busy</td>\n",
       "      <td>Slowest days</td>\n",
       "    </tr>\n",
       "  </tbody>\n",
       "</table>\n",
       "</div>"
      ],
      "text/plain": [
       "   order_id  user_id eval_set  order_number  order_dow  order_hour_of_day  \\\n",
       "0   2862468    66479    prior            24          4                 13   \n",
       "1    980006   105915    prior            25          3                 15   \n",
       "2   2184085   196075    prior             9          6                 17   \n",
       "3   3317270   163317    prior            24          6                 16   \n",
       "4    408267    97387    prior            31          3                 22   \n",
       "\n",
       "   days_since_prior_order  product_id  add_to_cart_order  reordered  \\\n",
       "0                    10.0       24838                  3          1   \n",
       "1                     6.0       24838                  6          1   \n",
       "2                     1.0       24838                  1          1   \n",
       "3                    16.0       24838                  2          1   \n",
       "4                    10.0       24838                  9          1   \n",
       "\n",
       "             product_name  aisle_id  department_id  prices _merge  \\\n",
       "0  Unsweetened Almondmilk        91             16     5.3   both   \n",
       "1  Unsweetened Almondmilk        91             16     5.3   both   \n",
       "2  Unsweetened Almondmilk        91             16     5.3   both   \n",
       "3  Unsweetened Almondmilk        91             16     5.3   both   \n",
       "4  Unsweetened Almondmilk        91             16     5.3   both   \n",
       "\n",
       "         price_range    price_range_loc     busiest_day        busiest_days  \n",
       "0  Mid-range product  Mid-range product      least busy        Slowest days  \n",
       "1  Mid-range product  Mid-range product  regularly busy        Slowest days  \n",
       "2  Mid-range product  Mid-range product  regularly busy  Regulary busy days  \n",
       "3  Mid-range product  Mid-range product  regularly busy  Regulary busy days  \n",
       "4  Mid-range product  Mid-range product  regularly busy        Slowest days  "
      ]
     },
     "execution_count": 57,
     "metadata": {},
     "output_type": "execute_result"
    }
   ],
   "source": [
    "df.head(5)"
   ]
  },
  {
   "cell_type": "code",
   "execution_count": 58,
   "id": "dda8a63c",
   "metadata": {},
   "outputs": [],
   "source": [
    "dict_labeling_counts = df['order_hour_of_day'].value_counts(dropna = False).to_dict()"
   ]
  },
  {
   "cell_type": "code",
   "execution_count": 59,
   "id": "9ea92806",
   "metadata": {},
   "outputs": [
    {
     "data": {
      "text/plain": [
       "{13: 8559,\n",
       " 10: 8526,\n",
       " 14: 8467,\n",
       " 11: 8448,\n",
       " 15: 8254,\n",
       " 12: 8018,\n",
       " 16: 7989,\n",
       " 9: 7552,\n",
       " 17: 6381,\n",
       " 8: 5125,\n",
       " 18: 5007,\n",
       " 19: 3728,\n",
       " 20: 2964,\n",
       " 7: 2593,\n",
       " 21: 2551,\n",
       " 22: 1969,\n",
       " 23: 1230,\n",
       " 6: 894,\n",
       " 0: 681,\n",
       " 1: 323,\n",
       " 5: 251,\n",
       " 2: 194,\n",
       " 3: 157,\n",
       " 4: 139}"
      ]
     },
     "execution_count": 59,
     "metadata": {},
     "output_type": "execute_result"
    }
   ],
   "source": [
    "dict_labeling_counts"
   ]
  },
  {
   "cell_type": "code",
   "execution_count": 60,
   "id": "604bae96",
   "metadata": {},
   "outputs": [],
   "source": [
    "list_quantile = list(df['order_hour_of_day'].value_counts(dropna = False).quantile([0.75, 0.5, 0.25]))"
   ]
  },
  {
   "cell_type": "code",
   "execution_count": 61,
   "id": "063ce0f3",
   "metadata": {},
   "outputs": [
    {
     "data": {
      "text/plain": [
       "[7996.25, 3346.0, 840.75]"
      ]
     },
     "execution_count": 61,
     "metadata": {},
     "output_type": "execute_result"
    }
   ],
   "source": [
    "list_quantile"
   ]
  },
  {
   "cell_type": "code",
   "execution_count": 62,
   "id": "65cab22b",
   "metadata": {},
   "outputs": [],
   "source": [
    "results_labeling_hour = []"
   ]
  },
  {
   "cell_type": "code",
   "execution_count": 63,
   "id": "d1d5b83c",
   "metadata": {},
   "outputs": [],
   "source": [
    "for value in df['order_hour_of_day']:\n",
    "    for key, val in dict_labeling_counts.items():\n",
    "        if value == key:\n",
    "            if val < list_quantile[2]:\n",
    "                results_labeling_hour.append('Fewest orders')\n",
    "            elif val >= list_quantile[2] and val < list_quantile[1]:\n",
    "                results_labeling_hour.append('Average orders')\n",
    "            elif val >= list_quantile[1]:\n",
    "                results_labeling_hour.append('Most orders')"
   ]
  },
  {
   "cell_type": "code",
   "execution_count": 64,
   "id": "d9ef6915",
   "metadata": {},
   "outputs": [],
   "source": [
    "def labeling_result (x):\n",
    "    most_orders = x.count('Most orders')\n",
    "    average_orders = x.count('Average orders')\n",
    "    fewest_orders = x.count('Fewest orders')\n",
    "    \n",
    "    print(f'Most orders: {most_orders}')\n",
    "    print(f'Average orders: {average_orders}')\n",
    "    print(f'Fewest orders: {fewest_orders}')\n",
    "    print(f'Total: {most_orders + average_orders + fewest_orders}')"
   ]
  },
  {
   "cell_type": "code",
   "execution_count": 65,
   "id": "d391ab41",
   "metadata": {},
   "outputs": [
    {
     "name": "stdout",
     "output_type": "stream",
     "text": [
      "Most orders: 86054\n",
      "Average orders: 12201\n",
      "Fewest orders: 1745\n",
      "Total: 100000\n"
     ]
    }
   ],
   "source": [
    "labeling_result(results_labeling_hour)"
   ]
  },
  {
   "cell_type": "code",
   "execution_count": 66,
   "id": "3763eab9",
   "metadata": {},
   "outputs": [
    {
     "data": {
      "text/plain": [
       "(100000,)"
      ]
     },
     "execution_count": 66,
     "metadata": {},
     "output_type": "execute_result"
    }
   ],
   "source": [
    "df['order_hour_of_day'].shape"
   ]
  },
  {
   "cell_type": "code",
   "execution_count": 67,
   "id": "280ecf75",
   "metadata": {},
   "outputs": [
    {
     "name": "stderr",
     "output_type": "stream",
     "text": [
      "C:\\Users\\Anna\\AppData\\Local\\Temp\\ipykernel_4292\\2573600056.py:1: SettingWithCopyWarning: \n",
      "A value is trying to be set on a copy of a slice from a DataFrame.\n",
      "Try using .loc[row_indexer,col_indexer] = value instead\n",
      "\n",
      "See the caveats in the documentation: https://pandas.pydata.org/pandas-docs/stable/user_guide/indexing.html#returning-a-view-versus-a-copy\n",
      "  df['busiest_period_of_day'] = results_labeling_hour\n"
     ]
    }
   ],
   "source": [
    "df['busiest_period_of_day'] = results_labeling_hour"
   ]
  },
  {
   "cell_type": "markdown",
   "id": "e5fc7535",
   "metadata": {},
   "source": [
    "5. Print the frequency for this new column."
   ]
  },
  {
   "cell_type": "code",
   "execution_count": 68,
   "id": "84205e2f",
   "metadata": {},
   "outputs": [
    {
     "data": {
      "text/plain": [
       "Most orders       86054\n",
       "Average orders    12201\n",
       "Fewest orders      1745\n",
       "Name: busiest_period_of_day, dtype: int64"
      ]
     },
     "execution_count": 68,
     "metadata": {},
     "output_type": "execute_result"
    }
   ],
   "source": [
    "df['busiest_period_of_day'].value_counts(dropna = False)"
   ]
  },
  {
   "cell_type": "markdown",
   "id": "1c501ce5",
   "metadata": {},
   "source": [
    "7. Export your dataframe as a pickle file (since you added new columns) and store it correctly in your “Prepared Data” folder."
   ]
  },
  {
   "cell_type": "code",
   "execution_count": 69,
   "id": "e0d18d10",
   "metadata": {},
   "outputs": [],
   "source": [
    "df.to_pickle(os.path.join(path, 'Prepared Data', 'orders_products_merged_updated.pkl'))"
   ]
  },
  {
   "cell_type": "code",
   "execution_count": null,
   "id": "0f15162e",
   "metadata": {},
   "outputs": [],
   "source": []
  }
 ],
 "metadata": {
  "kernelspec": {
   "display_name": "Python 3 (ipykernel)",
   "language": "python",
   "name": "python3"
  },
  "language_info": {
   "codemirror_mode": {
    "name": "ipython",
    "version": 3
   },
   "file_extension": ".py",
   "mimetype": "text/x-python",
   "name": "python",
   "nbconvert_exporter": "python",
   "pygments_lexer": "ipython3",
   "version": "3.9.13"
  }
 },
 "nbformat": 4,
 "nbformat_minor": 5
}
