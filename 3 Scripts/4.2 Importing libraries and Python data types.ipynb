{
 "cells": [
  {
   "cell_type": "code",
   "execution_count": 16,
   "id": "bdc176ad",
   "metadata": {},
   "outputs": [],
   "source": [
    "x = 50"
   ]
  },
  {
   "cell_type": "code",
   "execution_count": 17,
   "id": "62a2f7be",
   "metadata": {},
   "outputs": [
    {
     "name": "stdout",
     "output_type": "stream",
     "text": [
      "50\n"
     ]
    }
   ],
   "source": [
    "print(x)"
   ]
  },
  {
   "cell_type": "code",
   "execution_count": 19,
   "id": "b1dee015",
   "metadata": {},
   "outputs": [
    {
     "data": {
      "text/plain": [
       "100"
      ]
     },
     "execution_count": 19,
     "metadata": {},
     "output_type": "execute_result"
    }
   ],
   "source": [
    "50 + x"
   ]
  },
  {
   "cell_type": "code",
   "execution_count": 20,
   "id": "5c803e95",
   "metadata": {},
   "outputs": [
    {
     "data": {
      "text/plain": [
       "100"
      ]
     },
     "execution_count": 20,
     "metadata": {},
     "output_type": "execute_result"
    }
   ],
   "source": [
    "150 - x"
   ]
  },
  {
   "cell_type": "code",
   "execution_count": 21,
   "id": "307c1c53",
   "metadata": {},
   "outputs": [
    {
     "data": {
      "text/plain": [
       "100"
      ]
     },
     "execution_count": 21,
     "metadata": {},
     "output_type": "execute_result"
    }
   ],
   "source": [
    "x*2"
   ]
  },
  {
   "cell_type": "code",
   "execution_count": 26,
   "id": "d5e2c20e",
   "metadata": {},
   "outputs": [],
   "source": [
    "y = 175.3\n",
    "z = 25.5"
   ]
  },
  {
   "cell_type": "code",
   "execution_count": 27,
   "id": "59263aeb",
   "metadata": {},
   "outputs": [
    {
     "data": {
      "text/plain": [
       "6.874509803921569"
      ]
     },
     "execution_count": 27,
     "metadata": {},
     "output_type": "execute_result"
    }
   ],
   "source": [
    "y / z"
   ]
  },
  {
   "cell_type": "code",
   "execution_count": 28,
   "id": "a3a7de10",
   "metadata": {},
   "outputs": [],
   "source": [
    "d = \"Germany\""
   ]
  },
  {
   "cell_type": "code",
   "execution_count": 29,
   "id": "c4be9608",
   "metadata": {},
   "outputs": [
    {
     "data": {
      "text/plain": [
       "str"
      ]
     },
     "execution_count": 29,
     "metadata": {},
     "output_type": "execute_result"
    }
   ],
   "source": [
    "type (d)"
   ]
  },
  {
   "cell_type": "code",
   "execution_count": 30,
   "id": "32975bfa",
   "metadata": {},
   "outputs": [],
   "source": [
    "c = \"Berlin\""
   ]
  },
  {
   "cell_type": "code",
   "execution_count": 31,
   "id": "aa52838a",
   "metadata": {},
   "outputs": [
    {
     "name": "stdout",
     "output_type": "stream",
     "text": [
      "Berlin\n"
     ]
    }
   ],
   "source": [
    "print (c)"
   ]
  },
  {
   "cell_type": "code",
   "execution_count": 32,
   "id": "69b19457",
   "metadata": {},
   "outputs": [
    {
     "data": {
      "text/plain": [
       "'GermanyBerlin'"
      ]
     },
     "execution_count": 32,
     "metadata": {},
     "output_type": "execute_result"
    }
   ],
   "source": [
    "d + c"
   ]
  },
  {
   "cell_type": "code",
   "execution_count": 38,
   "id": "5a23880a",
   "metadata": {},
   "outputs": [],
   "source": [
    "g = \" is a capital\""
   ]
  },
  {
   "cell_type": "code",
   "execution_count": 40,
   "id": "34d6b3c4",
   "metadata": {},
   "outputs": [],
   "source": [
    "h = \" of \""
   ]
  },
  {
   "cell_type": "code",
   "execution_count": 41,
   "id": "6a8816f9",
   "metadata": {},
   "outputs": [
    {
     "data": {
      "text/plain": [
       "'Berlin is a capital of Germany'"
      ]
     },
     "execution_count": 41,
     "metadata": {},
     "output_type": "execute_result"
    }
   ],
   "source": [
    "c + g + h + d"
   ]
  },
  {
   "cell_type": "code",
   "execution_count": 44,
   "id": "d2bdef62",
   "metadata": {},
   "outputs": [],
   "source": [
    "i = \"I live in \""
   ]
  },
  {
   "cell_type": "code",
   "execution_count": 45,
   "id": "07920913",
   "metadata": {},
   "outputs": [
    {
     "data": {
      "text/plain": [
       "'I live in Germany'"
      ]
     },
     "execution_count": 45,
     "metadata": {},
     "output_type": "execute_result"
    }
   ],
   "source": [
    "i + d"
   ]
  }
 ],
 "metadata": {
  "kernelspec": {
   "display_name": "Python 3 (ipykernel)",
   "language": "python",
   "name": "python3"
  },
  "language_info": {
   "codemirror_mode": {
    "name": "ipython",
    "version": 3
   },
   "file_extension": ".py",
   "mimetype": "text/x-python",
   "name": "python",
   "nbconvert_exporter": "python",
   "pygments_lexer": "ipython3",
   "version": "3.9.13"
  }
 },
 "nbformat": 4,
 "nbformat_minor": 5
}
